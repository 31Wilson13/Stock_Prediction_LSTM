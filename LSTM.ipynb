{
  "nbformat": 4,
  "nbformat_minor": 0,
  "metadata": {
    "colab": {
      "provenance": [],
      "authorship_tag": "ABX9TyOxYcMIfoFk7qncui+UiEsz",
      "include_colab_link": true
    },
    "kernelspec": {
      "name": "python3",
      "display_name": "Python 3"
    },
    "language_info": {
      "name": "python"
    }
  },
  "cells": [
    {
      "cell_type": "markdown",
      "metadata": {
        "id": "view-in-github",
        "colab_type": "text"
      },
      "source": [
        "<a href=\"https://colab.research.google.com/github/31Wilson13/Stock_Prediction_LSTM/blob/main/LSTM.ipynb\" target=\"_parent\"><img src=\"https://colab.research.google.com/assets/colab-badge.svg\" alt=\"Open In Colab\"/></a>"
      ]
    },
    {
      "cell_type": "code",
      "execution_count": null,
      "metadata": {
        "id": "iGqm-X8Nx_nY"
      },
      "outputs": [],
      "source": [
        "import pandas as pd\n",
        "import numpy as np\n",
        "from talib import abstract\n",
        "from keras.models import Sequential\n",
        "from keras.layers import Dense\n",
        "from keras.layers import LSTM\n",
        "from keras.layers import Dropout\n",
        "import matplotlib.pyplot as plt\n",
        "from keras.callbacks import EarlyStopping\n",
        "from sklearn.preprocessing import MinMaxScaler\n",
        "import pickle\n",
        "from keras.models import load_model"
      ]
    },
    {
      "cell_type": "markdown",
      "source": [
        "## 匯入資料並分割資料集"
      ],
      "metadata": {
        "id": "Br7Wzgmu0UNC"
      }
    },
    {
      "cell_type": "code",
      "source": [
        "def stock_fun(x):\n",
        "    stock = pd.read_csv(x)\n",
        "    stock = stock.rename(columns = {'日期' : 'Date', '開盤價' : 'open', '最高價' : 'high', '最低價' : 'low', '收盤價' : 'close', '成交量' : 'volume'})\n",
        "    stock['RSI'] = abstract.RSI(stock)\n",
        "    stock[['upperband','middleband','lowerband']] = abstract.BBANDS(stock)\n",
        "    stock[['K(9)', 'D(9)']] = abstract.STOCH(stock)\n",
        "    dataset_train = stock.iloc[:1476,:]\n",
        "    dataset_valid = stock.iloc[1476:1963]\n",
        "    dataset_test = stock.iloc[1963:,:]\n",
        "    return stock, dataset_train, dataset_valid, dataset_test\n",
        "\n",
        "#函數的輸入項x，填入欲讀取的檔案路徑位置\n",
        "stock, dataset_train, dataset_valid, dataset_test = stock_fun('/Users/wilson/Python//0050/0050.csv')"
      ],
      "metadata": {
        "id": "QVqRf4cn0OdQ"
      },
      "execution_count": null,
      "outputs": []
    },
    {
      "cell_type": "markdown",
      "source": [
        "## 資料正規化"
      ],
      "metadata": {
        "id": "0pGf6UW30eBP"
      }
    },
    {
      "cell_type": "code",
      "source": [
        "# sc = pickle.load(open('scaler_final.pkl', 'rb'))\n",
        "\n",
        "def normalization():\n",
        "     sc = MinMaxScaler(feature_range = (0, 1))\n",
        "     return sc\n",
        "sc = normalization()\n"
      ],
      "metadata": {
        "id": "E663tRFg0VWp"
      },
      "execution_count": null,
      "outputs": []
    },
    {
      "cell_type": "markdown",
      "source": [
        "## 將資料轉換為模型用的格式"
      ],
      "metadata": {
        "id": "ePe1Ni2M0lmP"
      }
    },
    {
      "cell_type": "code",
      "source": [
        "def data(train,valid,test,sc,day):\n",
        "    # 構建訓練集數據\n",
        "    training_set = train.iloc[:, 1:5].values\n",
        "    training_set_scaled = sc.fit_transform(training_set)\n",
        "\n",
        "    x_train = []\n",
        "    y_train = []\n",
        "    for i in range(day, len(training_set)):\n",
        "        x_train.append(training_set_scaled[i-day:i, :])\n",
        "        y_train.append(training_set_scaled[i, 3])\n",
        "\n",
        "    x_train, y_train = np.array(x_train), np.array(y_train)\n",
        "    x_train = np.reshape(x_train, (x_train.shape[0], x_train.shape[1], 4))\n",
        "\n",
        "    #x_train[0]代表第i天之前股價\n",
        "    #y_train[0]代表第i天股價\n",
        "\n",
        "    # 驗證集數據\n",
        "    validing_set = valid.iloc[:, 1:5].values\n",
        "\n",
        "    validing_set_scaled = sc.transform(validing_set)\n",
        "\n",
        "    x_valid = []\n",
        "    y_valid = []\n",
        "    for i in range(day, len(validing_set)):\n",
        "        x_valid.append(validing_set_scaled[i-day:i, :])\n",
        "        y_valid.append(validing_set_scaled[i, 3])\n",
        "\n",
        "    x_valid, y_valid = np.array(x_valid), np.array(y_valid)\n",
        "    x_valid = np.reshape(x_valid, (x_valid.shape[0], x_valid.shape[1], 4))\n",
        "\n",
        "    # 測試集數據\n",
        "    real_stock_price = stock.iloc[:, 2:3].values\n",
        "\n",
        "    db_all = stock.iloc[:, 1:5].values\n",
        "\n",
        "    inputs = db_all[len(stock) - len(test) - day:]\n",
        "    inputs = inputs.reshape(-1,4)\n",
        "\n",
        "    inputs = sc.transform(inputs)\n",
        "    x_test = []\n",
        "    for i in range(day, len(inputs)):\n",
        "        x_test.append(inputs[i-day:i, :])\n",
        "    x_test = np.array(x_test)\n",
        "    x_test = np.reshape(x_test, (x_test.shape[0], x_test.shape[1], 4))\n",
        "\n",
        "    return x_train,y_train,x_valid,y_valid,x_test,real_stock_price,training_set_scaled\n",
        "\n",
        "x_train,y_train,x_valid,y_valid,x_test,real_stock_price,training_set_scaled = data(dataset_train,dataset_valid,dataset_test,sc,5)"
      ],
      "metadata": {
        "id": "d3KWY1VC0ivl"
      },
      "execution_count": null,
      "outputs": []
    },
    {
      "cell_type": "markdown",
      "source": [
        "## LSTM模型訓練"
      ],
      "metadata": {
        "id": "ETlciB5w0sU6"
      }
    },
    {
      "cell_type": "code",
      "source": [
        "#創建股票預測模型\n",
        "def model_training(x_train, y_train):\n",
        "    regressor = Sequential()\n",
        "    #LSTM的輸入爲 [samples, timesteps, features],這裏的timesteps爲步數，features爲維度 這裏我們的數據是4維的\n",
        "    regressor.add(LSTM(units = 64, return_sequences = True, input_shape = (x_train.shape[1], 4)))\n",
        "\n",
        "    regressor.add(LSTM(units = 64))\n",
        "    regressor.add(Dropout(0.2))\n",
        "\n",
        "    #全連接，輸出4個\n",
        "    regressor.add(Dense(units = 1))\n",
        "\n",
        "    regressor.compile(optimizer = 'adam', loss = 'mean_squared_error', metrics = ['mae'])\n",
        "\n",
        "    early_stopping = EarlyStopping(patience=50, restore_best_weights=True)\n",
        "\n",
        "    history = regressor.fit(x_train, y_train, epochs = 250, validation_data = (x_valid, y_valid), batch_size = 32, verbose=2, callbacks=[early_stopping])\n",
        "\n",
        "    return regressor, history\n",
        "\n",
        "regressor, history = model_training(x_train, y_train)"
      ],
      "metadata": {
        "id": "BamEl-8I0pem"
      },
      "execution_count": null,
      "outputs": []
    },
    {
      "cell_type": "markdown",
      "source": [
        "## 讀入模型"
      ],
      "metadata": {
        "id": "8dcnOC8T0yQB"
      }
    },
    {
      "cell_type": "code",
      "source": [
        "model = load_model('my_model_final.h5')\n",
        "my_loss_final = np.load('my_loss_final.npy', allow_pickle = 'TRUE').item()"
      ],
      "metadata": {
        "id": "Rl9pn7eW0yna"
      },
      "execution_count": null,
      "outputs": []
    },
    {
      "cell_type": "markdown",
      "source": [
        "## 繪製loss圖"
      ],
      "metadata": {
        "id": "w-IkbrM704vy"
      }
    },
    {
      "cell_type": "code",
      "source": [
        "def plot_metric(history, metric):\n",
        "    train_metrics = history.history[metric]\n",
        "    val_metrics = history.history['val_'+metric]\n",
        "    # train_metrics = history[metric]\n",
        "    # val_metrics = history['val_'+metric]\n",
        "    epochs = range(1, len(train_metrics) + 1)\n",
        "    plt.plot(epochs, train_metrics)\n",
        "    plt.plot(epochs, val_metrics)\n",
        "    plt.title('Training and validation '+ metric)\n",
        "    plt.xlabel(\"Epochs\")\n",
        "    plt.ylabel(metric)\n",
        "    plt.legend([\"train_\"+metric, 'val_'+metric])\n",
        "    plt.show()\n",
        "\n",
        "# plot_metric(my_loss_final, 'loss')\n",
        "plot_metric(history, 'loss')"
      ],
      "metadata": {
        "id": "1ptwp7g_04Ig"
      },
      "execution_count": null,
      "outputs": []
    },
    {
      "cell_type": "markdown",
      "source": [
        "## 將測試集資料放入模型進行預測"
      ],
      "metadata": {
        "id": "eR1F72q61G9G"
      }
    },
    {
      "cell_type": "code",
      "source": [
        "def inverse_predictions(predictions,scaler,prediction_index):\n",
        "    '''This function uses the fitted scaler to inverse predictions,\n",
        "    the index should be set to the position of the target variable'''\n",
        "\n",
        "    max_val = scaler.data_max_[prediction_index]\n",
        "    min_val = scaler.data_min_[prediction_index]\n",
        "    original_values = (predictions*(max_val - min_val )) + min_val\n",
        "\n",
        "    return original_values"
      ],
      "metadata": {
        "id": "CzVUd-Hd0-QM"
      },
      "execution_count": null,
      "outputs": []
    },
    {
      "cell_type": "code",
      "source": [
        "def predict(test):\n",
        "     predicted_stock_price = regressor.predict(test)\n",
        "     predicted_stock_price = inverse_predictions(predicted_stock_price,sc,3)\n",
        "\n",
        "     return predicted_stock_price\n",
        "predicted_stock_price = predict(x_test)"
      ],
      "metadata": {
        "id": "Q8usjYVx1Bw9"
      },
      "execution_count": null,
      "outputs": []
    },
    {
      "cell_type": "markdown",
      "source": [
        "## 繪製預測圖"
      ],
      "metadata": {
        "id": "_BV-kUIP1Kyi"
      }
    },
    {
      "cell_type": "code",
      "source": [
        "def main(predicted_stock_price):\n",
        "    plt.plot(real_stock_price[1963:], color = 'black', label = 'Stock Price')\n",
        "    #顯示收盤價\n",
        "    plt.plot(predicted_stock_price, color = 'green', label = 'Predicted Stock Price')\n",
        "    plt.title('Stock Price Prediction')\n",
        "    plt.xlabel('Time')\n",
        "    plt.ylabel('Stock Price')\n",
        "    plt.legend()\n",
        "    plt.show()\n",
        "\n",
        "\n",
        "if __name__ == '__main__':\n",
        "    main(predicted_stock_price)"
      ],
      "metadata": {
        "id": "-X7D_wlN1NDI"
      },
      "execution_count": null,
      "outputs": []
    },
    {
      "cell_type": "code",
      "source": [
        "regressor.save('my_model_5d2ay.h5')\n",
        "np.save('my_loss_5d2ay.npy', history.history)\n",
        "pickle.dump(sc, open('scaler_5d2ay.pkl', 'wb'))"
      ],
      "metadata": {
        "id": "2FGNTUUE1Psj"
      },
      "execution_count": null,
      "outputs": []
    }
  ]
}